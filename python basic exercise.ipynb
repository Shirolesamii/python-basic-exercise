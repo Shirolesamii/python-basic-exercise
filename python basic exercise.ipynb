{
 "cells": [
  {
   "cell_type": "markdown",
   "metadata": {},
   "source": [
    "Python Basic Exercise for Beginners"
   ]
  },
  {
   "cell_type": "markdown",
   "metadata": {},
   "source": [
    "Exercise 1: Calculate the multiplication and sum of two numbers"
   ]
  },
  {
   "cell_type": "code",
   "execution_count": 1,
   "metadata": {},
   "outputs": [
    {
     "name": "stdout",
     "output_type": "stream",
     "text": [
      "sum: 50\n",
      "mul: 600\n"
     ]
    }
   ],
   "source": [
    "number1 = 20\n",
    "number2 = 30\n",
    "sum=number1+number2\n",
    "mul=number1*number2\n",
    "print('sum:',sum)\n",
    "print('mul:',mul)"
   ]
  },
  {
   "cell_type": "markdown",
   "metadata": {},
   "source": [
    "Exercise 2: Print the Sum of a Current Number and a Previous number"
   ]
  },
  {
   "cell_type": "code",
   "execution_count": 10,
   "metadata": {},
   "outputs": [
    {
     "name": "stdout",
     "output_type": "stream",
     "text": [
      "Print current and previous number and their sum in a range(10)\n",
      "Current Number 1 Previous Number  0  Sum:  1\n",
      "Current Number 2 Previous Number  1  Sum:  3\n",
      "Current Number 3 Previous Number  2  Sum:  5\n",
      "Current Number 4 Previous Number  3  Sum:  7\n",
      "Current Number 5 Previous Number  4  Sum:  9\n",
      "Current Number 6 Previous Number  5  Sum:  11\n",
      "Current Number 7 Previous Number  6  Sum:  13\n",
      "Current Number 8 Previous Number  7  Sum:  15\n",
      "Current Number 9 Previous Number  8  Sum:  17\n",
      "Current Number 10 Previous Number  9  Sum:  19\n"
     ]
    }
   ],
   "source": [
    "print(\"Print current and previous number and their sum in a range(10)\")\n",
    "pre_num = 0\n",
    "\n",
    "for i in range(1, 11):\n",
    "    sum = pre_num + i\n",
    "    print(\"Current Number\", i, \"Previous Number \", pre_num, \" Sum: \", sum)\n",
    "    \n",
    "    pre_num = i"
   ]
  },
  {
   "cell_type": "code",
   "execution_count": 1,
   "metadata": {},
   "outputs": [
    {
     "name": "stdout",
     "output_type": "stream",
     "text": [
      "print previous and current num in their sum in a range 20\n",
      "current num 1 previous num 0 sum 1\n",
      "current num 2 previous num 1 sum 3\n",
      "current num 3 previous num 2 sum 5\n",
      "current num 4 previous num 3 sum 7\n"
     ]
    }
   ],
   "source": [
    "print(\"print previous and current num in their sum in a range 20\")\n",
    "prev_num=0\n",
    "for i in range(1,5):\n",
    "    sum=prev_num+i\n",
    "    print('current num',i,'previous num',prev_num,'sum',sum)\n",
    "    prev_num=i"
   ]
  },
  {
   "cell_type": "markdown",
   "metadata": {},
   "source": [
    "Exercise 3: Print characters present at an even index number"
   ]
  },
  {
   "cell_type": "code",
   "execution_count": 19,
   "metadata": {},
   "outputs": [
    {
     "name": "stdout",
     "output_type": "stream",
     "text": [
      "string: pynative\n",
      "p\n",
      "n\n",
      "t\n",
      "v\n"
     ]
    }
   ],
   "source": [
    "str=input(\"Enter the string:\")\n",
    "print('string:',str)\n",
    "len(str)\n",
    "for i in range(0,len(str),2):\n",
    "    print(str[i])\n",
    "\n"
   ]
  },
  {
   "cell_type": "code",
   "execution_count": 18,
   "metadata": {},
   "outputs": [
    {
     "name": "stdout",
     "output_type": "stream",
     "text": [
      "string: pynative\n",
      "y\n",
      "a\n",
      "i\n",
      "e\n"
     ]
    }
   ],
   "source": [
    "str=input(\"Enter the string:\")\n",
    "print('string:',str)\n",
    "len(str)\n",
    "for i in range(1,len(str),2):\n",
    "    print(str[i])\n"
   ]
  },
  {
   "cell_type": "markdown",
   "metadata": {},
   "source": [
    "Exercise 4: Remove first n characters from a string"
   ]
  },
  {
   "cell_type": "code",
   "execution_count": 8,
   "metadata": {},
   "outputs": [
    {
     "name": "stdout",
     "output_type": "stream",
     "text": [
      "Removing characters from a string\n",
      "Original string: pynative\n",
      "tive\n",
      "Original string: pynative\n",
      "native\n"
     ]
    }
   ],
   "source": [
    "def remove_char(str, n):\n",
    "    print('Original string:', str)\n",
    "    x = str[n:]\n",
    "    return x\n",
    "\n",
    "print(\"Removing characters from a string\")\n",
    "print(remove_char(\"pynative\", 4))\n",
    "print(remove_char(\"pynative\", 2))"
   ]
  },
  {
   "cell_type": "markdown",
   "metadata": {},
   "source": [
    "Exercise 5: Check if the first and last numbers of a list are the same"
   ]
  },
  {
   "cell_type": "code",
   "execution_count": 14,
   "metadata": {},
   "outputs": [
    {
     "name": "stdout",
     "output_type": "stream",
     "text": [
      "True\n",
      "False\n"
     ]
    }
   ],
   "source": [
    "\n",
    "def first_last(num):\n",
    "    \n",
    "    first_num=num[0]\n",
    "    last_num=num[-1]\n",
    "    \n",
    "    if first_num==last_num:\n",
    "        return True\n",
    "    else:\n",
    "        return False\n",
    "    \n",
    "num1 = [10, 20, 30, 40, 10]\n",
    "print(first_last(num1))\n",
    "\n",
    "num2 = [75, 65, 35, 75, 30]\n",
    "print(first_last(num2))"
   ]
  },
  {
   "cell_type": "markdown",
   "metadata": {},
   "source": [
    "Exercise 6: Display numbers divisible by 5\n"
   ]
  },
  {
   "cell_type": "code",
   "execution_count": 20,
   "metadata": {},
   "outputs": [
    {
     "name": "stdout",
     "output_type": "stream",
     "text": [
      "Given range(0, 50)\n",
      "0\n",
      "5\n",
      "10\n",
      "15\n",
      "20\n",
      "25\n",
      "30\n",
      "35\n",
      "40\n",
      "45\n"
     ]
    }
   ],
   "source": [
    "num=range(50)\n",
    "print('Given',num)\n",
    "for num in num:\n",
    "    if num%5==0:\n",
    "        print(num)\n",
    "    \n",
    "        \n",
    "\n"
   ]
  },
  {
   "cell_type": "markdown",
   "metadata": {},
   "source": [
    "Exercise 7: Find the number of occurrences of a substring in a string"
   ]
  },
  {
   "cell_type": "code",
   "execution_count": 29,
   "metadata": {},
   "outputs": [
    {
     "name": "stdout",
     "output_type": "stream",
     "text": [
      "Emma is present 2 times\n"
     ]
    }
   ],
   "source": [
    "str = \"Emma is good developer. Emma is a writer\"\n",
    "len(str)\n",
    "x=str.count('Emma')\n",
    "print('Emma is present',x,'times')"
   ]
  },
  {
   "cell_type": "markdown",
   "metadata": {},
   "source": [
    "Exercise 8: Print the pattern\n"
   ]
  },
  {
   "cell_type": "code",
   "execution_count": 43,
   "metadata": {},
   "outputs": [
    {
     "name": "stdout",
     "output_type": "stream",
     "text": [
      "\n",
      "\n",
      "1  \n",
      "\n",
      "2  2  \n",
      "\n",
      "3  3  3  \n",
      "\n",
      "4  4  4  4  \n",
      "\n"
     ]
    }
   ],
   "source": [
    "for num in range(5):\n",
    "    for i in range(num):\n",
    "        print(num,end='  ')\n",
    "    print('\\n')"
   ]
  },
  {
   "cell_type": "code",
   "execution_count": null,
   "metadata": {},
   "outputs": [],
   "source": []
  }
 ],
 "metadata": {
  "kernelspec": {
   "display_name": "Python 3",
   "language": "python",
   "name": "python3"
  },
  "language_info": {
   "codemirror_mode": {
    "name": "ipython",
    "version": 3
   },
   "file_extension": ".py",
   "mimetype": "text/x-python",
   "name": "python",
   "nbconvert_exporter": "python",
   "pygments_lexer": "ipython3",
   "version": "3.11.9"
  }
 },
 "nbformat": 4,
 "nbformat_minor": 2
}
