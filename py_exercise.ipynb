{
 "cells": [
  {
   "cell_type": "code",
   "execution_count": 7,
   "metadata": {},
   "outputs": [
    {
     "name": "stdout",
     "output_type": "stream",
     "text": [
      "yrtnuoc ym si aidnI\n"
     ]
    }
   ],
   "source": [
    "#Write a Python program to reverse a string.\n",
    "    #def reverse_string(input_string):\n",
    "      #return input_string[::-1]   \n",
    "def reverse_string(x):\n",
    "  return x[::-1]\n",
    "\n",
    "txt =reverse_string(\"India is my country\")\n",
    "\n",
    "print(txt) "
   ]
  },
  {
   "cell_type": "code",
   "execution_count": 9,
   "metadata": {},
   "outputs": [
    {
     "name": "stdout",
     "output_type": "stream",
     "text": [
      "aidni ym evol i\n"
     ]
    }
   ],
   "source": [
    "def string(x):\n",
    "    return x[::-1]\n",
    "txt=string('i love my india')\n",
    "print(txt)"
   ]
  },
  {
   "cell_type": "code",
   "execution_count": 12,
   "metadata": {},
   "outputs": [
    {
     "name": "stdout",
     "output_type": "stream",
     "text": [
      "True\n"
     ]
    }
   ],
   "source": [
    "#Write a Python program to check if a string is a palindrome.\n",
    "def palindrome(x):\n",
    " return x == x[::-1]   \n",
    "txt=palindrome('naman')\n",
    "print(txt)"
   ]
  },
  {
   "cell_type": "code",
   "execution_count": 2,
   "metadata": {},
   "outputs": [
    {
     "name": "stdout",
     "output_type": "stream",
     "text": [
      "False\n"
     ]
    }
   ],
   "source": [
    "#Write a Python program to check if a string is a palindrome.\n",
    "str=input('enter your string')\n",
    "reverse=str[::-1]\n",
    "if str==reverse:\n",
    "    print(\"True\")\n",
    "else:\n",
    "    print('False')\n",
    "#enter your string:samiksha"
   ]
  },
  {
   "cell_type": "code",
   "execution_count": 24,
   "metadata": {},
   "outputs": [
    {
     "name": "stdout",
     "output_type": "stream",
     "text": [
      "10\n"
     ]
    }
   ],
   "source": [
    "#Write a Python program to count the number of vowels in a string.\n",
    "def count_vowel(x):\n",
    "    vowels=\"aeiouAEIOU\"\n",
    "    return sum(1 for char in x if char in vowels)\n",
    "txt=count_vowel('aeiouAEIOUqwt')\n",
    "print(txt)"
   ]
  },
  {
   "cell_type": "code",
   "execution_count": 52,
   "metadata": {},
   "outputs": [
    {
     "name": "stdout",
     "output_type": "stream",
     "text": [
      "Consonant\n",
      "Vowel\n"
     ]
    }
   ],
   "source": [
    "# write a python program to check character is vowel or consonent\n",
    "def vowelOrConsonant(x): \n",
    "  \n",
    "    if (x == 'a' or x == 'e' or x == 'i' or \n",
    "        x == 'o' or x == 'u' or x == 'A' or \n",
    "        x == 'E' or x == 'I' or x == 'O' or \n",
    "        x == 'U'): \n",
    "        print(\"Vowel\") \n",
    "    else: \n",
    "        print(\"Consonant\") \n",
    "  \n",
    "# Driver code \n",
    "vowelOrConsonant('f') \n",
    "vowelOrConsonant('A') \n"
   ]
  },
  {
   "cell_type": "code",
   "execution_count": 8,
   "metadata": {},
   "outputs": [
    {
     "name": "stdout",
     "output_type": "stream",
     "text": [
      "Vowel\n"
     ]
    }
   ],
   "source": [
    "# write a python program to check character is vowel or not\n",
    "x=input('enter your character')\n",
    "if (x == 'a' or x == 'e' or x == 'i' or \n",
    "        x == 'o' or x == 'u' or x == 'A' or \n",
    "        x == 'E' or x == 'I' or x == 'O' or \n",
    "        x == 'U'): \n",
    "        print(\"Vowel\") \n",
    "else: \n",
    "        print(\"Consonant\") \n",
    "  \n",
    "#enter your character:  a"
   ]
  },
  {
   "cell_type": "code",
   "execution_count": 20,
   "metadata": {},
   "outputs": [
    {
     "name": "stdout",
     "output_type": "stream",
     "text": [
      "number is even\n"
     ]
    }
   ],
   "source": [
    "# write a python program to check number is odd/even\n",
    "num=int(input('enter your number'))\n",
    "if (num % 2) == 0:\n",
    "    print('number is even')\n",
    "else:\n",
    "    print('number is odd')\n"
   ]
  },
  {
   "cell_type": "code",
   "execution_count": 19,
   "metadata": {},
   "outputs": [
    {
     "name": "stdout",
     "output_type": "stream",
     "text": [
      "14\n"
     ]
    }
   ],
   "source": [
    "#write a python program to sum of two number\n",
    "a=int(input('enter your first number'))\n",
    "b=int(input('enter your second number'))\n",
    "c=a+b\n",
    "print(c)"
   ]
  },
  {
   "cell_type": "code",
   "execution_count": 23,
   "metadata": {},
   "outputs": [
    {
     "name": "stdout",
     "output_type": "stream",
     "text": [
      "largest no is: 8\n"
     ]
    }
   ],
   "source": [
    " #write a python program to find largest number\n",
    "num1=input('enter first number')\n",
    "num2=input('enter second number')\n",
    "num3=input('enter third number')\n",
    "if num1>num2 and num1>num3:\n",
    "    print('largest no is:',num1)\n",
    "elif num1<num2 and num1>num3:\n",
    "    print('largest no is:',num2)\n",
    "else:\n",
    "    print('largest no is:',num2)"
   ]
  },
  {
   "cell_type": "code",
   "execution_count": 20,
   "metadata": {},
   "outputs": [
    {
     "name": "stdout",
     "output_type": "stream",
     "text": [
      "3 is a prime\n"
     ]
    }
   ],
   "source": [
    "#check prime number\n",
    "num=int(input('enter the number'))\n",
    "if num == 1:\n",
    "    print(num,\" is not prime number\")\n",
    "if num>1:\n",
    "    for i in range(2,num):\n",
    "        if num%i==0:\n",
    "            print(num,'is not prime number')\n",
    "            break\n",
    "        else:\n",
    "            print(num,'is a prime')\n",
    "            break"
   ]
  },
  {
   "cell_type": "code",
   "execution_count": 33,
   "metadata": {},
   "outputs": [
    {
     "name": "stdout",
     "output_type": "stream",
     "text": [
      "fibonacci sequence:\n",
      "0\n",
      "1\n",
      "1\n",
      "2\n",
      "3\n"
     ]
    }
   ],
   "source": [
    "#write in python program is fibonacci sequence\n",
    "fibo=int(input('How many terms:'))\n",
    "n1,n2 = 0,1\n",
    "count=0\n",
    "if fibo<=0:\n",
    "    print('please enter the positive integer')\n",
    "elif fibo == 1:\n",
    "    print('fibonacci sequence upto',fibo)\n",
    "    print(n1)\n",
    "else:\n",
    "    print('fibonacci sequence:')\n",
    "    while count < fibo:\n",
    "        print(n1)\n",
    "        nth=n1+n2\n",
    "        n1=n2\n",
    "        n2=nth\n",
    "        count += 1\n"
   ]
  },
  {
   "cell_type": "code",
   "execution_count": 44,
   "metadata": {},
   "outputs": [
    {
     "name": "stdout",
     "output_type": "stream",
     "text": [
      "AIDNI ym evol i\n"
     ]
    }
   ],
   "source": [
    "# Reverse string\n",
    "def string(x):\n",
    "    return x[::-1]\n",
    "txt=string('i love my INDIA')\n",
    "print(txt)\n"
   ]
  },
  {
   "cell_type": "code",
   "execution_count": 15,
   "metadata": {},
   "outputs": [
    {
     "name": "stdout",
     "output_type": "stream",
     "text": [
      "factorial of 5 is 120\n"
     ]
    }
   ],
   "source": [
    "#write pythone program factorial of a number\n",
    "import math\n",
    "def fact(n):\n",
    "    return(math.factorial(n))\n",
    "num=int(input('Enter the  number'))\n",
    "f=fact(num)\n",
    "print('factorial of',num,'is',f)\n"
   ]
  },
  {
   "cell_type": "code",
   "execution_count": 17,
   "metadata": {},
   "outputs": [
    {
     "name": "stdout",
     "output_type": "stream",
     "text": [
      "simple interest 8000.0\n"
     ]
    }
   ],
   "source": [
    "#Write a Python program to calculate the simple interest given the principal, rate of interest, and time in years.\n",
    "principal=float(input('enter the principal amount'))\n",
    "rate=float(input('enter rate of interest'))\n",
    "time=float(input('enter the time in year'))\n",
    "interest=(principal*rate*time)/100# calculate simple interest\n",
    "print('simple interest',interest)"
   ]
  },
  {
   "cell_type": "code",
   "execution_count": 3,
   "metadata": {},
   "outputs": [
    {
     "name": "stdout",
     "output_type": "stream",
     "text": [
      "*****Ladaki Bahin Yojana Eligibility Criteria*****\n",
      "name: samiksha vinayak shirole\n",
      "age: 20\n",
      "annual income is 3.0 Lakh\n",
      "id proof: yes\n",
      "Bank Account yes\n",
      "you are not eligible\n"
     ]
    }
   ],
   "source": [
    "# Ladaki Bahin yojana\n",
    "print('*****Ladaki Bahin Yojana Eligibility Criteria*****')\n",
    "nm=input('Enter Your Full Name')\n",
    "print('name:',nm)\n",
    "\n",
    "age=int(input('entar your age'))\n",
    "print('age:',age)\n",
    "\n",
    "income=float(input('Enter your annual income'))\n",
    "print('annual income is',income,'Lakh')\n",
    "\n",
    "id_proof=(input('Any id proof[yes/no]'))\n",
    "print('id proof:',id_proof)\n",
    "\n",
    "bank_Ac=input('Bank Account:')\n",
    "print('Bank Account',bank_Ac)\n",
    "\n",
    "if age>=21 and age<=65 and income<=2.5:\n",
    "    print('you are eligible')\n",
    "    \n",
    "    if id_proof=='yes'==bank_Ac:\n",
    "        print('yes')\n",
    "    else:\n",
    "        print('you are not eligible')\n",
    "\n",
    "else:\n",
    "        print('you are not eligible')"
   ]
  },
  {
   "cell_type": "code",
   "execution_count": 2,
   "metadata": {},
   "outputs": [
    {
     "name": "stdout",
     "output_type": "stream",
     "text": [
      "8 is lower\n"
     ]
    }
   ],
   "source": [
    "# find lower number\n",
    "num1=int(input('enter the 1nd number:'))\n",
    "num2=int(input('enter the 2nd number'))\n",
    "if num1>=num2:\n",
    "    print(num1,'is lower')\n",
    "elif num1<=num2:\n",
    "    print(num2,'is lower')\n",
    "else:\n",
    "    print('smallest')"
   ]
  },
  {
   "cell_type": "code",
   "execution_count": 3,
   "metadata": {},
   "outputs": [
    {
     "name": "stdout",
     "output_type": "stream",
     "text": [
      "* \n",
      "* \n",
      "* \n",
      "* \n",
      "* \n",
      "* \n",
      "* \n",
      "* \n",
      "* \n",
      "* \n"
     ]
    }
   ],
   "source": [
    "#patern program\n",
    "\n",
    "num=int(input('enter the number of rowes:'))\n",
    "for i in range(0,num):# row\n",
    "    for j in range(0,num-i-1):#space\n",
    "        print(end=\"\")\n",
    "    for j in range(0,i+1):\n",
    "        print(\"*\",end=\" \")\n",
    "        print()\n"
   ]
  },
  {
   "cell_type": "code",
   "execution_count": 6,
   "metadata": {},
   "outputs": [
    {
     "name": "stdout",
     "output_type": "stream",
     "text": [
      "* * * * * * * \n",
      "  * * * * * \n",
      "    * * * \n",
      "      * \n"
     ]
    }
   ],
   "source": [
    "rows = int(input(\"Enter number of rows: \"))\n",
    "\n",
    "for i in range(rows, 1, -1):\n",
    "    for space in range(0, rows-i):\n",
    "        print(\"  \", end=\"\")\n",
    "    for j in range(i, 2*i-1):\n",
    "        print(\"* \", end=\"\")\n",
    "    for j in range(1, i-1):\n",
    "        print(\"* \", end=\"\")\n",
    "    print()"
   ]
  },
  {
   "cell_type": "code",
   "execution_count": 8,
   "metadata": {},
   "outputs": [
    {
     "name": "stdout",
     "output_type": "stream",
     "text": [
      " sss \n",
      "     \n",
      "     \n",
      " sss \n",
      "     \n",
      "     \n",
      " sss \n",
      "\n"
     ]
    }
   ],
   "source": [
    "for row in range(7):\n",
    "    for col in range(5):\n",
    "        if((row==0 or row==3 or row==6)) and (col>0 and col<4):\n",
    "            print(\"s\",end=\"\")\n",
    "        else:\n",
    "            print(end=\" \")\n",
    "    print()\n",
    "\n"
   ]
  },
  {
   "cell_type": "code",
   "execution_count": 9,
   "metadata": {},
   "outputs": [
    {
     "name": "stdout",
     "output_type": "stream",
     "text": [
      "\n",
      "1 \n",
      "2 2 \n",
      "3 3 3 \n",
      "4 4 4 4 \n",
      "5 5 5 5 5 \n"
     ]
    }
   ],
   "source": [
    "rows = int(input(\"Enter the number of rows: \"))  \n",
    "\n",
    "for num in range(rows+1):  \n",
    "        for i in range(num):  \n",
    "            print(num, end=\" \")       \n",
    "  \n",
    "        print()"
   ]
  },
  {
   "cell_type": "code",
   "execution_count": 11,
   "metadata": {},
   "outputs": [
    {
     "name": "stdout",
     "output_type": "stream",
     "text": [
      "\n",
      "5 \n",
      "5 5 \n",
      "5 5 5 \n",
      "5 5 5 5 \n",
      "5 5 5 5 5 \n"
     ]
    }
   ],
   "source": [
    "for num in range(0,6):  \n",
    "        for i in range(num):  \n",
    "            print(\"5\", end=\" \")       \n",
    "        print()"
   ]
  },
  {
   "cell_type": "code",
   "execution_count": 13,
   "metadata": {},
   "outputs": [
    {
     "name": "stdout",
     "output_type": "stream",
     "text": [
      "\n",
      "* \n",
      "* * \n",
      "* * * \n",
      "* * * * \n",
      "* * * * * \n"
     ]
    }
   ],
   "source": [
    "for num in range(0,6):  \n",
    "        for i in range(num):  \n",
    "            print(\"*\", end=\" \")       \n",
    "        print()\n",
    "    "
   ]
  },
  {
   "cell_type": "code",
   "execution_count": 18,
   "metadata": {},
   "outputs": [
    {
     "name": "stdout",
     "output_type": "stream",
     "text": [
      "* * * * * * \n",
      "* * * * * \n",
      "* * * * \n",
      "* * * \n",
      "* * \n",
      "* \n"
     ]
    }
   ],
   "source": [
    "for num in range(6,0,-1):\n",
    "    for i in range(num):\n",
    "        print(\"*\",end=\" \")\n",
    "    print()\n",
    "\n"
   ]
  },
  {
   "cell_type": "code",
   "execution_count": 47,
   "metadata": {},
   "outputs": [
    {
     "name": "stdout",
     "output_type": "stream",
     "text": [
      "* * * * * \n",
      "* * * * * \n",
      "* * * * * \n",
      "* * * * * \n"
     ]
    }
   ],
   "source": [
    "num1=int(input('enter your row:'))\n",
    "num2=int(input('enter your column:'))\n",
    "for i in range(num1):\n",
    "    for j in range(num2):\n",
    "        print('*',end= \" \")\n",
    "    print()\n",
    "    "
   ]
  },
  {
   "cell_type": "code",
   "execution_count": null,
   "metadata": {},
   "outputs": [],
   "source": [
    "\n"
   ]
  },
  {
   "cell_type": "code",
   "execution_count": null,
   "metadata": {},
   "outputs": [],
   "source": []
  }
 ],
 "metadata": {
  "kernelspec": {
   "display_name": "Python 3",
   "language": "python",
   "name": "python3"
  },
  "language_info": {
   "codemirror_mode": {
    "name": "ipython",
    "version": 3
   },
   "file_extension": ".py",
   "mimetype": "text/x-python",
   "name": "python",
   "nbconvert_exporter": "python",
   "pygments_lexer": "ipython3",
   "version": "3.11.9"
  }
 },
 "nbformat": 4,
 "nbformat_minor": 2
}
